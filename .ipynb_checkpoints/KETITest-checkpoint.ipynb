{
 "cells": [
  {
   "cell_type": "markdown",
   "id": "6a7c0ade",
   "metadata": {},
   "source": [
    "# Data Preparation"
   ]
  },
  {
   "cell_type": "code",
   "execution_count": 56,
   "id": "efe8ca12",
   "metadata": {},
   "outputs": [],
   "source": [
    "import os\n",
    "import pandas as pd"
   ]
  },
  {
   "cell_type": "markdown",
   "id": "6e80a5b6",
   "metadata": {},
   "source": [
    "## Outlier Detection Test"
   ]
  },
  {
   "cell_type": "code",
   "execution_count": 63,
   "id": "a92b9c57",
   "metadata": {},
   "outputs": [],
   "source": [
    "class OutlierDetection():\n",
    "    def __init__(self):\n",
    "        pass\n",
    "        \n",
    "    def setMethod(self, method, method_parameter =None):\n",
    "        \"\"\"\n",
    "        \n",
    "        \"\"\"\n",
    "        self.method = method\n",
    "        self.method_parameter = method_parameter\n",
    "        \n",
    "    def trainModel(self, train):\n",
    "        \"\"\"\n",
    "        \n",
    "        \"\"\"\n",
    "        if self.method == 'kde':\n",
    "            outlierDetectionModel = self.kde(train, self.method_parameter)\n",
    "            # 실제 제대로 동작하는 Outlier Detection Module들은 해당 클래스의 하위 모듈이 아닌 별도의 Class로 설계되어야 할 것으로 보임\n",
    "            # 현재 활용하는 함수들은 모두 외부 함수를 간단히 사용하므로 ex> kde, iforest, lof로만 정의 하였음\n",
    "            \n",
    "        elif self.method == 'IForest':\n",
    "            outlierDetectionModel = self.iforest(train, self.method_parameter)\n",
    "        elif self.method == 'LOF':\n",
    "            outlierDetectionModel = self.lof(train, self.method_parameter)\n",
    "        else:\n",
    "            outlierDetectionModel = self.kde(train, self.method_parameter)\n",
    "            \n",
    "        return outlierDetectionModel\n",
    "    \n",
    "    def getScore(self, model, testdata):\n",
    "        score = - 1.0 * model.score_samples(testdata.values)\n",
    "        score = pd.DataFrame(score, index=testdata.index, columns=['score'])\n",
    "        \n",
    "        return score\n",
    "        \n",
    "    def getOutlierResult(self):\n",
    "        pass\n",
    "        \n",
    "    def kde(self, train, method_parameter=None):\n",
    "        from sklearn.neighbors import KernelDensity\n",
    "        # KDE 기반 분포 추정\n",
    "        model = KernelDensity(kernel='gaussian', bandwidth=0.2)\n",
    "        model.fit(train.values)\n",
    "        return model\n",
    "    \n",
    "    def iforest(train, method_parameter=None):\n",
    "        from sklearn.ensemble import IsolationForest\n",
    "        # IForest 모델 적합\n",
    "        model = IsolationForest(random_state=42)\n",
    "        model.fit(train.values)\n",
    "        return model\n",
    "    \n",
    "    def lof(train, method_parameter={'n_neighbors':5}):\n",
    "        from sklearn.neighbors import LocalOutlierFactor\n",
    "        # LOF 모델 적합\n",
    "        n_neighors = method_parameter['n_neighors']\n",
    "        \n",
    "        model = LocalOutlierFactor(n_neighbors=n_neighbors, novelty=True)\n",
    "        model.fit(train.values)\n",
    "        return model  \n",
    "\n",
    "# Input은 CSV, DB 등 다양한 input이 들어올 수 있습니다. 그러나 기준 input은 DataFrame 형태로 준비됩니다.\n"
   ]
  },
  {
   "cell_type": "code",
   "execution_count": null,
   "id": "9f9cc0ea",
   "metadata": {},
   "outputs": [],
   "source": [
    "train_data_path= './data/nasa_bearing_train.csv'\n",
    "test_data_path= './data/nasa_bearing_test.csv'\n",
    "# Get Train and Test Data\n",
    "\n",
    "train = pd.read_csv(train_data_path, index_col=0, parse_dates=[0])\n",
    "test = pd.read_csv(test_data_path, index_col=0, parse_dates=[0])"
   ]
  },
  {
   "cell_type": "markdown",
   "id": "ed42f1a7",
   "metadata": {},
   "source": [
    "# KDE"
   ]
  },
  {
   "cell_type": "code",
   "execution_count": 64,
   "id": "85a1f6aa",
   "metadata": {},
   "outputs": [],
   "source": [
    "# Questions\n",
    "# 1. Multivariable 에 대해 통합적으로 분석하는가?\n",
    "# 2. test_score가 아닌 정상/비정상 범주를 판단할 수 있도록\n",
    "# 3. 그 정도를 조정할 수 있는 대표적 조정 가능한 parameter\n"
   ]
  },
  {
   "cell_type": "code",
   "execution_count": 66,
   "id": "bcbc7186",
   "metadata": {},
   "outputs": [
    {
     "data": {
      "text/plain": [
       "<AxesSubplot:>"
      ]
     },
     "execution_count": 66,
     "metadata": {},
     "output_type": "execute_result"
    },
    {
     "data": {
      "image/png": "[encoded data removed]",
      "text/plain": [
       "<Figure size 432x288 with 1 Axes>"
      ]
     },
     "metadata": {
      "needs_background": "light"
     },
     "output_type": "display_data"
    }
   ],
   "source": [
    "OutD = OutlierDetection()\n",
    "OutD.setMethod('KDE')\n",
    "model = OutD.trainModel(train)\n",
    "score = OutD.getScore(model, test)\n",
    "score.plot()"
   ]
  },
  {
   "cell_type": "markdown",
   "id": "8f0c6e54",
   "metadata": {},
   "source": [
    "# IForest"
   ]
  },
  {
   "cell_type": "code",
   "execution_count": 67,
   "id": "f7a338a6",
   "metadata": {},
   "outputs": [
    {
     "data": {
      "text/plain": [
       "<AxesSubplot:>"
      ]
     },
     "execution_count": 67,
     "metadata": {},
     "output_type": "execute_result"
    },
    {
     "data": {
      "image/png": "[encoded data removed]",
      "text/plain": [
       "<Figure size 432x288 with 1 Axes>"
      ]
     },
     "metadata": {
      "needs_background": "light"
     },
     "output_type": "display_data"
    }
   ],
   "source": [
    "OutD = OutlierDetection()\n",
    "OutD.setMethod('IForest')\n",
    "model = OutD.trainModel(train)\n",
    "score = OutD.getScore(model, test)\n",
    "score.plot()"
   ]
  },
  {
   "cell_type": "markdown",
   "id": "bfd07ed6",
   "metadata": {},
   "source": [
    "# Local Outlier Factor"
   ]
  },
  {
   "cell_type": "code",
   "execution_count": 30,
   "id": "2c86b8a3",
   "metadata": {},
   "outputs": [],
   "source": [
    "OutD = OutlierDetection()\n",
    "OutD.setMethod('IForest')\n",
    "KDE_model = OutD.trainModel(train)\n",
    "score = OutD.getScore(KDE_model, test)\n",
    "score.plot()"
   ]
  },
  {
   "cell_type": "code",
   "execution_count": 31,
   "id": "5d0eefde",
   "metadata": {},
   "outputs": [
    {
     "data": {
      "text/plain": [
       "<AxesSubplot:>"
      ]
     },
     "execution_count": 31,
     "metadata": {},
     "output_type": "execute_result"
    },
    {
     "data": {
      "image/png": "[encoded data removed]",
      "text/plain": [
       "<Figure size 432x288 with 1 Axes>"
      ]
     },
     "metadata": {
      "needs_background": "light"
     },
     "output_type": "display_data"
    }
   ],
   "source": [
    "test_scores = iforest(X_train, X_test)\n",
    "test_scores.plot()"
   ]
  },
  {
   "cell_type": "code",
   "execution_count": null,
   "id": "b1b8e578",
   "metadata": {},
   "outputs": [],
   "source": []
  }
 ],
 "metadata": {
  "kernelspec": {
   "display_name": "Python 3 (ipykernel)",
   "language": "python",
   "name": "python3"
  },
  "language_info": {
   "codemirror_mode": {
    "name": "ipython",
    "version": 3
   },
   "file_extension": ".py",
   "mimetype": "text/x-python",
   "name": "python",
   "nbconvert_exporter": "python",
   "pygments_lexer": "ipython3",
   "version": "3.8.11"
  }
 },
 "nbformat": 4,
 "nbformat_minor": 5
}
